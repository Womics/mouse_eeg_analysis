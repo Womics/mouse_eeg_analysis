{
 "cells": [
  {
   "cell_type": "code",
   "execution_count": null,
   "id": "242dd941-6f62-4578-9d47-c17b331366f3",
   "metadata": {},
   "outputs": [],
   "source": [
    " cells: [\n",
    "  {\n",
    "   cell_type: code,\n",
    "   execution_count: 10,\n",
    "   metadata: {\n",
    "    collapsed: true\n",
    "   },\n",
    "   outputs: [],\n",
    "   source: [\n",
    "    import mne\\n,\n",
    "    import numpy as np\\n,\n",
    "    import pandas as pd\\n,\n",
    "    \\n,\n",
    "    from mne.time_frequency import tfr_array_morlet\\n,\n",
    "    from mne.baseline import rescale\\n,\n",
    "    \\n,\n",
    "    from matplotlib import pyplot as plt\\n,\n",
    "    from mne.viz import centers_to_edges\n",
    "   ]\n",
    "  },\n",
    "  {\n",
    "   cell_type: code,\n",
    "   execution_count: 11,\n",
    "   outputs: [],\n",
    "   source: [\n",
    "    # Use Qt backend for Matplotlib to plot in a new window\\n,\n",
    "    %matplotlib qt\n",
    "   ],\n"
   ]
  },
  {
   "cell_type": "code",
   "execution_count": null,
   "id": "eca64c8f-b7a2-415f-af23-bc04ca9b24db",
   "metadata": {},
   "outputs": [],
   "source": []
  }
 ],
 "metadata": {
  "kernelspec": {
   "display_name": "Python 3 (ipykernel)",
   "language": "python",
   "name": "python3"
  },
  "language_info": {
   "codemirror_mode": {
    "name": "ipython",
    "version": 3
   },
   "file_extension": ".py",
   "mimetype": "text/x-python",
   "name": "python",
   "nbconvert_exporter": "python",
   "pygments_lexer": "ipython3",
   "version": "3.12.4"
  }
 },
 "nbformat": 4,
 "nbformat_minor": 5
}
