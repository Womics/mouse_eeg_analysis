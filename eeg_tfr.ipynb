{
 "cells": [
  {
   "cell_type": "code",
   "execution_count": 10,
   "metadata": {
    "collapsed": true,
    "jupyter": {
     "outputs_hidden": true
    }
   },
   "outputs": [],
   "source": [
    "import mne\n",
    "import numpy as np\n",
    "import pandas as pd\n",
    "\n",
    "from mne.time_frequency import tfr_array_morlet\n",
    "from mne.baseline import rescale\n",
    "\n",
    "from matplotlib import pyplot as plt\n",
    "from mne.viz import centers_to_edges"
   ]
  },
  {
   "cell_type": "code",
   "execution_count": 11,
   "metadata": {
    "collapsed": false,
    "jupyter": {
     "outputs_hidden": false
    }
   },
   "outputs": [],
   "source": [
    "# Use Qt backend for Matplotlib to plot in a new window\n",
    "%matplotlib qt"
   ]
  },
  {
   "cell_type": "code",
   "execution_count": 12,
   "metadata": {
    "collapsed": false,
    "jupyter": {
     "outputs_hidden": false
    }
   },
   "outputs": [
    {
     "data": {
      "text/plain": [
       "'/Users/jiontominaga/Research/mouse_eeg/data/dummy_eeg_data.xlsx'"
      ]
     },
     "execution_count": 12,
     "metadata": {},
     "output_type": "execute_result"
    }
   ],
   "source": [
    "# For creating dummy eeg time series data\n",
    "# Define parameters\n",
    "duration = 60  # 1 minute\n",
    "sampling_frequency = 1000  # 1000 Hz\n",
    "num_samples = duration * sampling_frequency\n",
    "\n",
    "# Generate dummy EEG data (random values for simplicity)\n",
    "eeg_data = np.random.randn(num_samples)\n",
    "\n",
    "# Create a DataFrame\n",
    "time = np.linspace(0, duration, num_samples, endpoint=False)\n",
    "df = pd.DataFrame({'Time (s)': time, 'EEG Channel 1': eeg_data})\n",
    "\n",
    "# Save to an Excel file\n",
    "file_path = '/Users/jiontominaga/Research/mouse_eeg/data/dummy_eeg_data.xlsx'\n",
    "df.to_excel(file_path, index=False)\n",
    "\n",
    "file_path"
   ]
  },
  {
   "cell_type": "code",
   "execution_count": 13,
   "metadata": {
    "collapsed": false,
    "jupyter": {
     "outputs_hidden": false
    }
   },
   "outputs": [
    {
     "name": "stdout",
     "output_type": "stream",
     "text": [
      "(1, 1, 60000)\n"
     ]
    }
   ],
   "source": [
    "# For reshaping data to correct array shape\n",
    "eeg_data_path = file_path\n",
    "df = pd.read_excel(eeg_data_path)\n",
    "# Extract the EEG data as a numpy array\n",
    "eeg_data = df['EEG Channel 1'].values\n",
    "# Extract the 'Time (s)' column as a numpy array\n",
    "times_array = df['Time (s)'].values\n",
    "\n",
    "# Reshape the data to [n_epochs, n_channels, n_times]\n",
    "# Since it's a single time series data and a single channel, we set n_epochs to 1 and n_channels to 1\n",
    "n_epochs = 1\n",
    "n_channels = 1\n",
    "n_times = eeg_data.shape[0]\n",
    "\n",
    "# Reshape the EEG data\n",
    "eeg_array = eeg_data.reshape((n_epochs, n_channels, n_times))\n",
    "\n",
    "# Display the shape to verify\n",
    "print(eeg_array.shape)"
   ]
  },
  {
   "cell_type": "code",
   "execution_count": 14,
   "metadata": {
    "collapsed": false,
    "jupyter": {
     "outputs_hidden": false
    }
   },
   "outputs": [
    {
     "name": "stdout",
     "output_type": "stream",
     "text": [
      "Applying baseline correction (mode: mean)\n"
     ]
    },
    {
     "name": "stderr",
     "output_type": "stream",
     "text": [
      "[Parallel(n_jobs=1)]: Using backend SequentialBackend with 1 concurrent workers.\n",
      "[Parallel(n_jobs=1)]: Done   1 out of   1 | elapsed:    0.1s remaining:    0.0s\n",
      "[Parallel(n_jobs=1)]: Done   1 out of   1 | elapsed:    0.1s finished\n"
     ]
    }
   ],
   "source": [
    "# For calculating time-frequency representation\n",
    "#1. set parameters for TFA:\n",
    "min_freq = 0.1\n",
    "max_freq = 30\n",
    "step_freq = 1\n",
    "sfreq = 1000\n",
    "freqs = np.arange(min_freq, max_freq, step_freq)\n",
    "n_cycles = freqs / 2.0\n",
    "vmin, vmax = -3.0, 3.0  # Define our color limits.\n",
    "power = tfr_array_morlet(eeg_array, sfreq=sfreq, freqs=freqs, n_cycles=n_cycles, output=\"avg_power\")\n",
    "# Baseline the output\n",
    "rescale(power, times_array, (0.0, 0.1), mode=\"mean\", copy=False)\n",
    "fig, ax = plt.subplots()\n",
    "x, y = centers_to_edges(times_array * 1000, freqs)\n",
    "mesh = ax.pcolormesh(x, y, power[0], cmap=\"RdBu_r\", vmin=vmin, vmax=vmax)\n",
    "ax.set_title(\"TFR calculated on a numpy array\")\n",
    "ax.set(ylim=freqs[[0, -1]], xlabel=\"Time (ms)\")\n",
    "fig.colorbar(mesh)\n",
    "plt.tight_layout()\n",
    "\n",
    "plt.show()"
   ]
  }
 ],
 "metadata": {
  "kernelspec": {
   "display_name": "Python 3 (ipykernel)",
   "language": "python",
   "name": "python3"
  },
  "language_info": {
   "codemirror_mode": {
    "name": "ipython",
    "version": 3
   },
   "file_extension": ".py",
   "mimetype": "text/x-python",
   "name": "python",
   "nbconvert_exporter": "python",
   "pygments_lexer": "ipython3",
   "version": "3.12.4"
  }
 },
 "nbformat": 4,
 "nbformat_minor": 4
}
